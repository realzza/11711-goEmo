{
 "cells": [
  {
   "cell_type": "code",
   "execution_count": 1,
   "id": "92b45f0b-e208-4dd7-b9ad-f400cb580e5e",
   "metadata": {},
   "outputs": [
    {
     "name": "stderr",
     "output_type": "stream",
     "text": [
      "/ocean/projects/cis210027p/zzhou5/miniconda3/envs/goemo/lib/python3.9/site-packages/scipy/__init__.py:146: UserWarning: A NumPy version >=1.16.5 and <1.23.0 is required for this version of SciPy (detected version 1.23.4\n",
      "  warnings.warn(f\"A NumPy version >={np_minversion} and <{np_maxversion}\"\n"
     ]
    }
   ],
   "source": [
    "import numpy as np\n",
    "import gensim\n",
    "import emoji"
   ]
  },
  {
   "cell_type": "code",
   "execution_count": 2,
   "id": "462ab23c-0519-4960-99cb-2ab8dbeb5032",
   "metadata": {},
   "outputs": [],
   "source": [
    "e2v = gensim.models.KeyedVectors.load_word2vec_format(\"emojional.bin\", binary=True)"
   ]
  },
  {
   "cell_type": "code",
   "execution_count": 3,
   "id": "e1a6b3bf-fda3-4edb-acd7-8970afb7bca1",
   "metadata": {},
   "outputs": [],
   "source": [
    "vocabulary = e2v.key_to_index.keys()"
   ]
  },
  {
   "cell_type": "code",
   "execution_count": 4,
   "id": "3bc018b5-53d6-46d5-a6d4-b2ea69df5463",
   "metadata": {},
   "outputs": [
    {
     "name": "stdout",
     "output_type": "stream",
     "text": [
      "['🇹🇲' '🇬🇺' '🔇' '🟦' '🔊' '🏹' '🔝' '🪔' '🏅' '👨\\u200d💼']\n"
     ]
    }
   ],
   "source": [
    "# Sample 10 random emojis from the data set.\n",
    "example_emojis = np.random.choice(list(vocabulary), 10)\n",
    "print(example_emojis)"
   ]
  },
  {
   "cell_type": "code",
   "execution_count": 5,
   "id": "4eb5f12d-421a-47ca-bb86-d75740202b9f",
   "metadata": {},
   "outputs": [
    {
     "data": {
      "text/plain": [
       "[('🦖', 0.5565454363822937),\n",
       " ('🐶', 0.5542377829551697),\n",
       " ('🐕', 0.5361674427986145),\n",
       " ('🐁', 0.5336870551109314),\n",
       " ('🕋', 0.52545166015625),\n",
       " ('🐭', 0.5247642993927002),\n",
       " ('🐍', 0.5186745524406433),\n",
       " ('🦓', 0.5150848627090454),\n",
       " ('🐟', 0.5091385245323181),\n",
       " ('🐸', 0.5007147192955017)]"
      ]
     },
     "execution_count": 5,
     "metadata": {},
     "output_type": "execute_result"
    }
   ],
   "source": [
    "e2v.most_similar('🦎')"
   ]
  },
  {
   "cell_type": "code",
   "execution_count": 6,
   "id": "b8b971c9-21b8-4f23-8657-c039d9d611a5",
   "metadata": {},
   "outputs": [
    {
     "data": {
      "text/plain": [
       "'👩\\u200d🎨'"
      ]
     },
     "execution_count": 6,
     "metadata": {},
     "output_type": "execute_result"
    }
   ],
   "source": [
    "list(vocabulary)[1]"
   ]
  },
  {
   "cell_type": "markdown",
   "id": "8720d923-99b4-4a9f-8c6f-cb968e642e8b",
   "metadata": {},
   "source": [
    "### Tokenizer"
   ]
  },
  {
   "cell_type": "code",
   "execution_count": 7,
   "id": "409d12d2-863d-4d78-aa4a-e9bd2b333dbf",
   "metadata": {},
   "outputs": [
    {
     "name": "stderr",
     "output_type": "stream",
     "text": [
      "2022-12-01 20:43:45.173318: I tensorflow/stream_executor/platform/default/dso_loader.cc:49] Successfully opened dynamic library libcudart.so.10.1\n"
     ]
    }
   ],
   "source": [
    "import transformers"
   ]
  },
  {
   "cell_type": "code",
   "execution_count": 8,
   "id": "ca436cea-9571-4750-8646-db167dc70088",
   "metadata": {},
   "outputs": [],
   "source": [
    "tokenizer = transformers.SqueezeBertTokenizer.from_pretrained(\"squeezebert/squeezebert-uncased\", do_lower_case=True)"
   ]
  },
  {
   "cell_type": "code",
   "execution_count": 9,
   "id": "a29ab514-82be-44cc-ab8d-e94d347dff49",
   "metadata": {},
   "outputs": [],
   "source": [
    "sample = \"Don't you love 🤗 Transformers? We sure do.\""
   ]
  },
  {
   "cell_type": "code",
   "execution_count": 10,
   "id": "e29c1937-398f-472e-9e2d-6c7bf7dc5c95",
   "metadata": {},
   "outputs": [
    {
     "data": {
      "text/plain": [
       "['don',\n",
       " \"'\",\n",
       " 't',\n",
       " 'you',\n",
       " 'love',\n",
       " '[UNK]',\n",
       " 'transformers',\n",
       " '?',\n",
       " 'we',\n",
       " 'sure',\n",
       " 'do',\n",
       " '.']"
      ]
     },
     "execution_count": 10,
     "metadata": {},
     "output_type": "execute_result"
    }
   ],
   "source": [
    "tokenizer.tokenize(sample)"
   ]
  },
  {
   "cell_type": "code",
   "execution_count": 11,
   "id": "e5d153f0-eed0-4a9c-acbf-62cc3b5d4a9b",
   "metadata": {},
   "outputs": [
    {
     "data": {
      "text/plain": [
       "1"
      ]
     },
     "execution_count": 11,
     "metadata": {},
     "output_type": "execute_result"
    }
   ],
   "source": [
    "# add huggingface emoji\n",
    "tokenizer.add_tokens(\"🤗\")"
   ]
  },
  {
   "cell_type": "code",
   "execution_count": 12,
   "id": "3608b175-3066-4e0d-93f1-c6216c7c39b8",
   "metadata": {},
   "outputs": [
    {
     "data": {
      "text/plain": [
       "['don',\n",
       " \"'\",\n",
       " 't',\n",
       " 'you',\n",
       " 'love',\n",
       " '🤗',\n",
       " 'transformers',\n",
       " '?',\n",
       " 'we',\n",
       " 'sure',\n",
       " 'do',\n",
       " '.']"
      ]
     },
     "execution_count": 12,
     "metadata": {},
     "output_type": "execute_result"
    }
   ],
   "source": [
    "tokenizer.tokenize(sample)"
   ]
  },
  {
   "cell_type": "code",
   "execution_count": 14,
   "id": "5ce0e13b-a08b-446e-b226-0b1fcbb9e275",
   "metadata": {},
   "outputs": [
    {
     "data": {
      "text/plain": [
       "True"
      ]
     },
     "execution_count": 14,
     "metadata": {},
     "output_type": "execute_result"
    }
   ],
   "source": [
    "emoji.is_emoji('🤗')"
   ]
  },
  {
   "cell_type": "code",
   "execution_count": 15,
   "id": "6e3550a6-85ff-4adf-bab0-3facdeea98e5",
   "metadata": {},
   "outputs": [
    {
     "data": {
      "text/plain": [
       "1"
      ]
     },
     "execution_count": 15,
     "metadata": {},
     "output_type": "execute_result"
    }
   ],
   "source": [
    "emoji.emoji_count(sample)"
   ]
  },
  {
   "cell_type": "code",
   "execution_count": 16,
   "id": "d46e17ef-3b00-4d3d-8661-7e70f165624b",
   "metadata": {},
   "outputs": [
    {
     "data": {
      "text/plain": [
       "[{'match_start': 15, 'match_end': 16, 'emoji': '🤗'}]"
      ]
     },
     "execution_count": 16,
     "metadata": {},
     "output_type": "execute_result"
    }
   ],
   "source": [
    "emoji.emoji_list(sample)"
   ]
  },
  {
   "cell_type": "code",
   "execution_count": 17,
   "id": "744e5ab7-9e7e-4862-94b7-6083149317c1",
   "metadata": {},
   "outputs": [
    {
     "data": {
      "text/plain": [
       "'🤗'"
      ]
     },
     "execution_count": 17,
     "metadata": {},
     "output_type": "execute_result"
    }
   ],
   "source": [
    "sample[15:16]"
   ]
  },
  {
   "cell_type": "markdown",
   "id": "f5ddd6b3-6721-4bff-a85c-06eb1b2e4bdc",
   "metadata": {},
   "source": [
    "### play with goemo dataset"
   ]
  },
  {
   "cell_type": "code",
   "execution_count": 29,
   "id": "ebadfbd3-d936-43ad-9258-085a67bebd87",
   "metadata": {},
   "outputs": [],
   "source": [
    "from datasets import load_dataset\n",
    "from tqdm import tqdm"
   ]
  },
  {
   "cell_type": "code",
   "execution_count": 20,
   "id": "b648ff91-7ae6-46cf-93c5-336253d4c87b",
   "metadata": {},
   "outputs": [
    {
     "name": "stderr",
     "output_type": "stream",
     "text": [
      "No config specified, defaulting to: go_emotions/simplified\n",
      "Found cached dataset go_emotions (/jet/home/zzhou5/.cache/huggingface/datasets/go_emotions/simplified/0.0.0/2637cfdd4e64d30249c3ed2150fa2b9d279766bfcd6a809b9f085c61a90d776d)\n"
     ]
    },
    {
     "data": {
      "application/vnd.jupyter.widget-view+json": {
       "model_id": "c5edae7299a94b308caed586f0ae0fe4",
       "version_major": 2,
       "version_minor": 0
      },
      "text/plain": [
       "  0%|          | 0/3 [00:00<?, ?it/s]"
      ]
     },
     "metadata": {},
     "output_type": "display_data"
    }
   ],
   "source": [
    "go_emotions = load_dataset(\"go_emotions\")\n",
    "data = go_emotions.data"
   ]
  },
  {
   "cell_type": "code",
   "execution_count": 21,
   "id": "fe90744d-270a-43fe-92b9-2c00aeb9fb60",
   "metadata": {},
   "outputs": [],
   "source": [
    "train, valid, test = data[\"train\"].to_pandas(), data[\"validation\"].to_pandas(), data[\"test\"].to_pandas()"
   ]
  },
  {
   "cell_type": "code",
   "execution_count": 30,
   "id": "8c4670f1-c202-49ce-a4e2-bf32cc75724b",
   "metadata": {},
   "outputs": [],
   "source": [
    "all_emojis = set()"
   ]
  },
  {
   "cell_type": "code",
   "execution_count": 38,
   "id": "48e00e00-1564-4fea-ba91-73ae6706b466",
   "metadata": {},
   "outputs": [
    {
     "name": "stderr",
     "output_type": "stream",
     "text": [
      "100%|██████████| 100/100 [00:00<00:00, 75099.44it/s]\n"
     ]
    },
    {
     "name": "stdout",
     "output_type": "stream",
     "text": [
      "Yes I heard abt the f bombs! That has to be why. Thanks for your reply:) until then hubby and I will anxiously wait 😝\n",
      "sorry [NAME]! 😘😘😘\n"
     ]
    },
    {
     "name": "stderr",
     "output_type": "stream",
     "text": [
      "100%|██████████| 100/100 [00:00<00:00, 65906.73it/s]\n"
     ]
    },
    {
     "name": "stdout",
     "output_type": "stream",
     "text": [
      "[NAME] is such a legendary daddy 😩\n",
      "Hahahah thank you so much, username does not check out, you don't seem sketchy at all! 😅\n"
     ]
    },
    {
     "name": "stderr",
     "output_type": "stream",
     "text": [
      "100%|██████████| 100/100 [00:00<00:00, 67682.81it/s]"
     ]
    },
    {
     "name": "stdout",
     "output_type": "stream",
     "text": [
      "I’m so sorry 🤪\n",
      "Eff your video - love Canada 🇨🇦 Stupid geolock\n"
     ]
    },
    {
     "name": "stderr",
     "output_type": "stream",
     "text": [
      "\n"
     ]
    }
   ],
   "source": [
    "for phase in [train, valid, test]:\n",
    "    for txt in tqdm(phase['text'][:100]):\n",
    "        if emoji.emoji_count(txt) > 0:\n",
    "            print(txt)\n",
    "            # emojis = emoji.emoji_list(txt)\n",
    "            # for emoji_pair in emojis:\n",
    "            #     all_emojis.add(txt[emoji_pair['match_start']:emoji_pair['match_end']])"
   ]
  },
  {
   "cell_type": "code",
   "execution_count": 36,
   "id": "0ffb5ad5-4f58-4073-b661-64a9ba056253",
   "metadata": {},
   "outputs": [],
   "source": [
    "all_emojis = list(all_emojis)"
   ]
  },
  {
   "cell_type": "code",
   "execution_count": 37,
   "id": "1ccc7fb0-73c5-4bd0-adea-0d1582236fa0",
   "metadata": {},
   "outputs": [
    {
     "data": {
      "text/plain": [
       "266"
      ]
     },
     "execution_count": 37,
     "metadata": {},
     "output_type": "execute_result"
    }
   ],
   "source": [
    "tokenizer.add_tokens(all_emojis)"
   ]
  },
  {
   "cell_type": "code",
   "execution_count": 39,
   "id": "cff9a1a4-fe96-4247-907b-60dfbc29d919",
   "metadata": {},
   "outputs": [
    {
     "data": {
      "text/plain": [
       "['e',\n",
       " '##ff',\n",
       " 'your',\n",
       " 'video',\n",
       " '-',\n",
       " 'love',\n",
       " 'canada',\n",
       " '🇨🇦',\n",
       " 'stupid',\n",
       " 'geo',\n",
       " '##lock']"
      ]
     },
     "execution_count": 39,
     "metadata": {},
     "output_type": "execute_result"
    }
   ],
   "source": [
    "tokenizer.tokenize('Eff your video - love Canada 🇨🇦 Stupid geolock')"
   ]
  },
  {
   "cell_type": "markdown",
   "id": "11a76b64-b339-4e82-83b2-4b7b9ace8adf",
   "metadata": {},
   "source": [
    "### Add all emojis in training data to tokenizier"
   ]
  },
  {
   "cell_type": "code",
   "execution_count": null,
   "id": "061a549c-ab10-4dda-be97-894cf1f8ce3e",
   "metadata": {},
   "outputs": [],
   "source": []
  }
 ],
 "metadata": {
  "kernelspec": {
   "display_name": "goemo",
   "language": "python",
   "name": "goemo"
  },
  "language_info": {
   "codemirror_mode": {
    "name": "ipython",
    "version": 3
   },
   "file_extension": ".py",
   "mimetype": "text/x-python",
   "name": "python",
   "nbconvert_exporter": "python",
   "pygments_lexer": "ipython3",
   "version": "3.9.13"
  }
 },
 "nbformat": 4,
 "nbformat_minor": 5
}
