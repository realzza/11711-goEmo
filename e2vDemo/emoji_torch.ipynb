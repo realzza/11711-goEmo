{
 "cells": [
  {
   "cell_type": "code",
   "execution_count": 1,
   "id": "92b45f0b-e208-4dd7-b9ad-f400cb580e5e",
   "metadata": {},
   "outputs": [
    {
     "name": "stderr",
     "output_type": "stream",
     "text": [
      "/ocean/projects/cis210027p/zzhou5/miniconda3/envs/goemo/lib/python3.9/site-packages/scipy/__init__.py:146: UserWarning: A NumPy version >=1.16.5 and <1.23.0 is required for this version of SciPy (detected version 1.23.4\n",
      "  warnings.warn(f\"A NumPy version >={np_minversion} and <{np_maxversion}\"\n"
     ]
    }
   ],
   "source": [
    "import numpy as np\n",
    "import gensim\n",
    "import emoji\n",
    "import torch"
   ]
  },
  {
   "cell_type": "code",
   "execution_count": 2,
   "id": "462ab23c-0519-4960-99cb-2ab8dbeb5032",
   "metadata": {},
   "outputs": [],
   "source": [
    "e2v = gensim.models.KeyedVectors.load_word2vec_format(\"../emoji2vec/results/unicode/k-768_pos-4_rat-1_ep-40_dr-0/emoji2vec.bin\", binary=True)"
   ]
  },
  {
   "cell_type": "code",
   "execution_count": 3,
   "id": "e1a6b3bf-fda3-4edb-acd7-8970afb7bca1",
   "metadata": {},
   "outputs": [],
   "source": [
    "vocabulary = e2v.key_to_index.keys()"
   ]
  },
  {
   "cell_type": "code",
   "execution_count": 4,
   "id": "3bc018b5-53d6-46d5-a6d4-b2ea69df5463",
   "metadata": {},
   "outputs": [
    {
     "name": "stdout",
     "output_type": "stream",
     "text": [
      "['📏' '⛽' '👉🏿' '👢' '◽' '👘' '💅🏿' '2⃣️' '📟' '🐇']\n"
     ]
    }
   ],
   "source": [
    "# Sample 10 random emojis from the data set.\n",
    "example_emojis = np.random.choice(list(vocabulary), 10)\n",
    "print(example_emojis)"
   ]
  },
  {
   "cell_type": "code",
   "execution_count": 5,
   "id": "4eb5f12d-421a-47ca-bb86-d75740202b9f",
   "metadata": {},
   "outputs": [
    {
     "data": {
      "text/plain": [
       "[('🚿', 0.702677309513092),\n",
       " ('🛀', 0.6778178811073303),\n",
       " ('🚾', 0.41962745785713196),\n",
       " ('🚽', 0.40616124868392944),\n",
       " ('🚰', 0.3953370451927185),\n",
       " ('🛀🏼', 0.39066949486732483),\n",
       " ('🐃', 0.39057111740112305),\n",
       " ('💧', 0.3904171288013458),\n",
       " ('🏊', 0.3754548728466034),\n",
       " ('👙', 0.3627477288246155)]"
      ]
     },
     "execution_count": 5,
     "metadata": {},
     "output_type": "execute_result"
    }
   ],
   "source": [
    "e2v.most_similar('🛁')"
   ]
  },
  {
   "cell_type": "code",
   "execution_count": 6,
   "id": "6892b5ae-6e92-4a09-8815-b3cda24ecd81",
   "metadata": {},
   "outputs": [
    {
     "data": {
      "text/plain": [
       "[('😗', 0.5419405698776245),\n",
       " ('😘', 0.4886314272880554),\n",
       " ('😆', 0.470554381608963),\n",
       " ('💋', 0.4581233263015747),\n",
       " ('😄', 0.3989715874195099),\n",
       " ('🤗', 0.39804166555404663),\n",
       " ('😏', 0.3912205100059509),\n",
       " ('😍', 0.3868739604949951),\n",
       " ('👄', 0.3836819529533386),\n",
       " ('😀', 0.37199661135673523)]"
      ]
     },
     "execution_count": 6,
     "metadata": {},
     "output_type": "execute_result"
    }
   ],
   "source": [
    "e2v.most_similar('😙')"
   ]
  },
  {
   "cell_type": "code",
   "execution_count": 10,
   "id": "b8b971c9-21b8-4f23-8657-c039d9d611a5",
   "metadata": {},
   "outputs": [
    {
     "data": {
      "text/plain": [
       "'👔'"
      ]
     },
     "execution_count": 10,
     "metadata": {},
     "output_type": "execute_result"
    }
   ],
   "source": [
    "list(vocabulary)[1]"
   ]
  },
  {
   "cell_type": "markdown",
   "id": "8720d923-99b4-4a9f-8c6f-cb968e642e8b",
   "metadata": {},
   "source": [
    "### Tokenizer"
   ]
  },
  {
   "cell_type": "code",
   "execution_count": 5,
   "id": "409d12d2-863d-4d78-aa4a-e9bd2b333dbf",
   "metadata": {},
   "outputs": [
    {
     "name": "stderr",
     "output_type": "stream",
     "text": [
      "2022-12-03 22:39:58.060151: I tensorflow/stream_executor/platform/default/dso_loader.cc:49] Successfully opened dynamic library libcudart.so.10.1\n"
     ]
    }
   ],
   "source": [
    "import transformers"
   ]
  },
  {
   "cell_type": "code",
   "execution_count": 6,
   "id": "ca436cea-9571-4750-8646-db167dc70088",
   "metadata": {},
   "outputs": [
    {
     "name": "stderr",
     "output_type": "stream",
     "text": [
      "Some weights of the model checkpoint at squeezebert/squeezebert-uncased were not used when initializing SqueezeBertModel: ['cls.predictions.bias', 'cls.predictions.decoder.weight', 'cls.predictions.transform.dense.bias', 'cls.predictions.transform.LayerNorm.weight', 'cls.predictions.transform.LayerNorm.bias', 'cls.seq_relationship.bias', 'cls.predictions.transform.dense.weight', 'cls.seq_relationship.weight']\n",
      "- This IS expected if you are initializing SqueezeBertModel from the checkpoint of a model trained on another task or with another architecture (e.g. initializing a BertForSequenceClassification model from a BertForPreTraining model).\n",
      "- This IS NOT expected if you are initializing SqueezeBertModel from the checkpoint of a model that you expect to be exactly identical (initializing a BertForSequenceClassification model from a BertForSequenceClassification model).\n"
     ]
    }
   ],
   "source": [
    "tokenizer = transformers.SqueezeBertTokenizer.from_pretrained(\"squeezebert/squeezebert-uncased\", do_lower_case=True)\n",
    "bert_model = transformers.SqueezeBertModel.from_pretrained(\n",
    "    \"squeezebert/squeezebert-uncased\"\n",
    ")"
   ]
  },
  {
   "cell_type": "code",
   "execution_count": 7,
   "id": "bbd0579a-eb3d-457b-b2ef-31a7dc817873",
   "metadata": {},
   "outputs": [
    {
     "name": "stdout",
     "output_type": "stream",
     "text": [
      "30528\n"
     ]
    }
   ],
   "source": [
    "print(len(tokenizer))"
   ]
  },
  {
   "cell_type": "code",
   "execution_count": 17,
   "id": "a29ab514-82be-44cc-ab8d-e94d347dff49",
   "metadata": {},
   "outputs": [],
   "source": [
    "sample = \"Don't you love 🤗 Transformers? We sure do.\""
   ]
  },
  {
   "cell_type": "code",
   "execution_count": 18,
   "id": "e29c1937-398f-472e-9e2d-6c7bf7dc5c95",
   "metadata": {},
   "outputs": [
    {
     "data": {
      "text/plain": [
       "['don',\n",
       " \"'\",\n",
       " 't',\n",
       " 'you',\n",
       " 'love',\n",
       " '[UNK]',\n",
       " 'transformers',\n",
       " '?',\n",
       " 'we',\n",
       " 'sure',\n",
       " 'do',\n",
       " '.']"
      ]
     },
     "execution_count": 18,
     "metadata": {},
     "output_type": "execute_result"
    }
   ],
   "source": [
    "tokenizer.tokenize(sample)"
   ]
  },
  {
   "cell_type": "code",
   "execution_count": 8,
   "id": "e5d153f0-eed0-4a9c-acbf-62cc3b5d4a9b",
   "metadata": {},
   "outputs": [
    {
     "data": {
      "text/plain": [
       "1"
      ]
     },
     "execution_count": 8,
     "metadata": {},
     "output_type": "execute_result"
    }
   ],
   "source": [
    "# add huggingface emoji\n",
    "tokenizer.add_tokens(\"🥰\")"
   ]
  },
  {
   "cell_type": "code",
   "execution_count": 20,
   "id": "67ae7856-c94a-490c-be2c-fe4e776cb26e",
   "metadata": {},
   "outputs": [
    {
     "name": "stdout",
     "output_type": "stream",
     "text": [
      "30529\n"
     ]
    }
   ],
   "source": [
    "print(len(tokenizer))"
   ]
  },
  {
   "cell_type": "code",
   "execution_count": 21,
   "id": "3608b175-3066-4e0d-93f1-c6216c7c39b8",
   "metadata": {},
   "outputs": [
    {
     "data": {
      "text/plain": [
       "['don',\n",
       " \"'\",\n",
       " 't',\n",
       " 'you',\n",
       " 'love',\n",
       " '🤗',\n",
       " 'transformers',\n",
       " '?',\n",
       " 'we',\n",
       " 'sure',\n",
       " 'do',\n",
       " '.']"
      ]
     },
     "execution_count": 21,
     "metadata": {},
     "output_type": "execute_result"
    }
   ],
   "source": [
    "tokenizer.tokenize(sample)"
   ]
  },
  {
   "cell_type": "code",
   "execution_count": 22,
   "id": "5ce0e13b-a08b-446e-b226-0b1fcbb9e275",
   "metadata": {},
   "outputs": [
    {
     "data": {
      "text/plain": [
       "True"
      ]
     },
     "execution_count": 22,
     "metadata": {},
     "output_type": "execute_result"
    }
   ],
   "source": [
    "emoji.is_emoji('🤗')"
   ]
  },
  {
   "cell_type": "code",
   "execution_count": 23,
   "id": "6e3550a6-85ff-4adf-bab0-3facdeea98e5",
   "metadata": {},
   "outputs": [
    {
     "data": {
      "text/plain": [
       "1"
      ]
     },
     "execution_count": 23,
     "metadata": {},
     "output_type": "execute_result"
    }
   ],
   "source": [
    "emoji.emoji_count(sample)"
   ]
  },
  {
   "cell_type": "code",
   "execution_count": 24,
   "id": "d46e17ef-3b00-4d3d-8661-7e70f165624b",
   "metadata": {},
   "outputs": [
    {
     "data": {
      "text/plain": [
       "[{'match_start': 15, 'match_end': 16, 'emoji': '🤗'}]"
      ]
     },
     "execution_count": 24,
     "metadata": {},
     "output_type": "execute_result"
    }
   ],
   "source": [
    "emoji.emoji_list(sample)"
   ]
  },
  {
   "cell_type": "code",
   "execution_count": 25,
   "id": "744e5ab7-9e7e-4862-94b7-6083149317c1",
   "metadata": {},
   "outputs": [
    {
     "data": {
      "text/plain": [
       "'🤗'"
      ]
     },
     "execution_count": 25,
     "metadata": {},
     "output_type": "execute_result"
    }
   ],
   "source": [
    "sample[15:16]"
   ]
  },
  {
   "cell_type": "code",
   "execution_count": 26,
   "id": "ad10d0b1-ab32-4191-8442-76826d26e2f7",
   "metadata": {},
   "outputs": [
    {
     "data": {
      "text/plain": [
       "(768,)"
      ]
     },
     "execution_count": 26,
     "metadata": {},
     "output_type": "execute_result"
    }
   ],
   "source": [
    "e2v['🤗'].shape"
   ]
  },
  {
   "cell_type": "code",
   "execution_count": 87,
   "id": "cf0c51d0-bcb4-46c8-979c-8ad53d390dd9",
   "metadata": {},
   "outputs": [
    {
     "data": {
      "text/plain": [
       "30757"
      ]
     },
     "execution_count": 87,
     "metadata": {},
     "output_type": "execute_result"
    }
   ],
   "source": [
    "len(tokenizer)"
   ]
  },
  {
   "cell_type": "code",
   "execution_count": 27,
   "id": "ee46e82d-ba40-4fce-b6f4-cb72cb0574e4",
   "metadata": {},
   "outputs": [
    {
     "data": {
      "text/plain": [
       "Embedding(30529, 768)"
      ]
     },
     "execution_count": 27,
     "metadata": {},
     "output_type": "execute_result"
    }
   ],
   "source": [
    "bert_model.resize_token_embeddings(\n",
    "        len(tokenizer)\n",
    "    )"
   ]
  },
  {
   "cell_type": "code",
   "execution_count": 28,
   "id": "fda6b301-da66-4988-bce6-080adfc304f5",
   "metadata": {},
   "outputs": [
    {
     "data": {
      "text/plain": [
       "[101,\n",
       " 2123,\n",
       " 1005,\n",
       " 1056,\n",
       " 2017,\n",
       " 2293,\n",
       " 30528,\n",
       " 19081,\n",
       " 1029,\n",
       " 2057,\n",
       " 2469,\n",
       " 2079,\n",
       " 1012,\n",
       " 102]"
      ]
     },
     "execution_count": 28,
     "metadata": {},
     "output_type": "execute_result"
    }
   ],
   "source": [
    "tokenizer.encode(sample)"
   ]
  },
  {
   "cell_type": "code",
   "execution_count": 29,
   "id": "95a3a73c-3bb2-4945-ac14-0a64e0ae4ba9",
   "metadata": {},
   "outputs": [],
   "source": [
    "sample='🤗'"
   ]
  },
  {
   "cell_type": "code",
   "execution_count": 31,
   "id": "97a51e66-482d-41c5-9671-2b195f020386",
   "metadata": {},
   "outputs": [
    {
     "data": {
      "text/plain": [
       "tensor([[-0.0305,  0.0102,  0.0096,  ..., -0.0291, -0.0119,  0.0164],\n",
       "        [ 0.0561, -0.0042,  0.0043,  ..., -0.0027, -0.0398,  0.0091],\n",
       "        [ 0.0098, -0.0378, -0.0410,  ...,  0.0054, -0.0812, -0.0202]],\n",
       "       grad_fn=<EmbeddingBackward0>)"
      ]
     },
     "execution_count": 31,
     "metadata": {},
     "output_type": "execute_result"
    }
   ],
   "source": [
    "bert_model.embeddings.word_embeddings(torch.Tensor(tokenizer.encode(sample)).int())"
   ]
  },
  {
   "cell_type": "markdown",
   "id": "f5ddd6b3-6721-4bff-a85c-06eb1b2e4bdc",
   "metadata": {},
   "source": [
    "### play with goemo dataset"
   ]
  },
  {
   "cell_type": "code",
   "execution_count": 8,
   "id": "ebadfbd3-d936-43ad-9258-085a67bebd87",
   "metadata": {},
   "outputs": [],
   "source": [
    "from datasets import load_dataset\n",
    "from tqdm import tqdm"
   ]
  },
  {
   "cell_type": "code",
   "execution_count": 9,
   "id": "b648ff91-7ae6-46cf-93c5-336253d4c87b",
   "metadata": {},
   "outputs": [
    {
     "name": "stderr",
     "output_type": "stream",
     "text": [
      "No config specified, defaulting to: go_emotions/simplified\n",
      "Found cached dataset go_emotions (/jet/home/zzhou5/.cache/huggingface/datasets/go_emotions/simplified/0.0.0/2637cfdd4e64d30249c3ed2150fa2b9d279766bfcd6a809b9f085c61a90d776d)\n"
     ]
    },
    {
     "data": {
      "application/vnd.jupyter.widget-view+json": {
       "model_id": "ed8bd3eaf3b942d3a653f326b791c877",
       "version_major": 2,
       "version_minor": 0
      },
      "text/plain": [
       "  0%|          | 0/3 [00:00<?, ?it/s]"
      ]
     },
     "metadata": {},
     "output_type": "display_data"
    }
   ],
   "source": [
    "go_emotions = load_dataset(\"go_emotions\")\n",
    "data = go_emotions.data"
   ]
  },
  {
   "cell_type": "code",
   "execution_count": 10,
   "id": "fe90744d-270a-43fe-92b9-2c00aeb9fb60",
   "metadata": {},
   "outputs": [],
   "source": [
    "train, valid, test = data[\"train\"].to_pandas(), data[\"validation\"].to_pandas(), data[\"test\"].to_pandas()"
   ]
  },
  {
   "cell_type": "code",
   "execution_count": 11,
   "id": "8c4670f1-c202-49ce-a4e2-bf32cc75724b",
   "metadata": {},
   "outputs": [],
   "source": [
    "all_emojis = set()"
   ]
  },
  {
   "cell_type": "code",
   "execution_count": 12,
   "id": "48e00e00-1564-4fea-ba91-73ae6706b466",
   "metadata": {},
   "outputs": [
    {
     "name": "stderr",
     "output_type": "stream",
     "text": [
      "100%|██████████| 43410/43410 [00:00<00:00, 78472.27it/s]\n",
      "100%|██████████| 5426/5426 [00:00<00:00, 78636.32it/s]\n",
      "100%|██████████| 5427/5427 [00:00<00:00, 79951.70it/s]\n"
     ]
    }
   ],
   "source": [
    "for phase in [train, valid, test]:\n",
    "    for txt in tqdm(phase['text']):\n",
    "        if emoji.emoji_count(txt) > 0:\n",
    "            # print(txt)\n",
    "            emojis = emoji.emoji_list(txt)\n",
    "            for emoji_pair in emojis:\n",
    "                all_emojis.add(txt[emoji_pair['match_start']:emoji_pair['match_end']])"
   ]
  },
  {
   "cell_type": "code",
   "execution_count": 13,
   "id": "0ffb5ad5-4f58-4073-b661-64a9ba056253",
   "metadata": {},
   "outputs": [],
   "source": [
    "all_emojis = list(all_emojis)"
   ]
  },
  {
   "cell_type": "code",
   "execution_count": 14,
   "id": "ebbd6951-b30d-450c-9111-997ec79fd5da",
   "metadata": {},
   "outputs": [],
   "source": [
    "error_emojis = []\n",
    "health_emojis = []"
   ]
  },
  {
   "cell_type": "code",
   "execution_count": 15,
   "id": "84afa2ad-8092-415d-8406-66ef0e69ca23",
   "metadata": {},
   "outputs": [],
   "source": [
    "for emoji in all_emojis:\n",
    "    try:\n",
    "        tmp_emoji = e2v[emoji[0]]\n",
    "        health_emojis.append(emoji[0])\n",
    "    except:\n",
    "        error_emojis.append(emoji[0])"
   ]
  },
  {
   "cell_type": "code",
   "execution_count": 16,
   "id": "bcb5ced1-bb09-4c28-a807-cb51f8594fb9",
   "metadata": {},
   "outputs": [
    {
     "data": {
      "text/plain": [
       "41"
      ]
     },
     "execution_count": 16,
     "metadata": {},
     "output_type": "execute_result"
    }
   ],
   "source": [
    "len(error_emojis)"
   ]
  },
  {
   "cell_type": "code",
   "execution_count": 17,
   "id": "36e8917f-38bd-4d58-9879-9f679f109d3d",
   "metadata": {},
   "outputs": [
    {
     "data": {
      "text/plain": [
       "229"
      ]
     },
     "execution_count": 17,
     "metadata": {},
     "output_type": "execute_result"
    }
   ],
   "source": [
    "len(health_emojis)"
   ]
  },
  {
   "cell_type": "code",
   "execution_count": 37,
   "id": "1ccc7fb0-73c5-4bd0-adea-0d1582236fa0",
   "metadata": {},
   "outputs": [
    {
     "data": {
      "text/plain": [
       "266"
      ]
     },
     "execution_count": 37,
     "metadata": {},
     "output_type": "execute_result"
    }
   ],
   "source": [
    "tokenizer.add_tokens(all_emojis)"
   ]
  },
  {
   "cell_type": "code",
   "execution_count": 39,
   "id": "cff9a1a4-fe96-4247-907b-60dfbc29d919",
   "metadata": {},
   "outputs": [
    {
     "data": {
      "text/plain": [
       "['e',\n",
       " '##ff',\n",
       " 'your',\n",
       " 'video',\n",
       " '-',\n",
       " 'love',\n",
       " 'canada',\n",
       " '🇨🇦',\n",
       " 'stupid',\n",
       " 'geo',\n",
       " '##lock']"
      ]
     },
     "execution_count": 39,
     "metadata": {},
     "output_type": "execute_result"
    }
   ],
   "source": [
    "tokenizer.tokenize('Eff your video - love Canada 🇨🇦 Stupid geolock')"
   ]
  },
  {
   "cell_type": "markdown",
   "id": "b91193bc-3f27-49b7-92b1-b05bf1abfeea",
   "metadata": {},
   "source": [
    "### Add error emojis"
   ]
  },
  {
   "cell_type": "code",
   "execution_count": 22,
   "id": "c252c7e5-ab7d-4cb9-81bf-84046ca344f3",
   "metadata": {},
   "outputs": [
    {
     "name": "stdout",
     "output_type": "stream",
     "text": [
      "0 🅱 30529\n",
      "1 🦗 30530\n",
      "2 ™ 30530\n",
      "3 ☁ 30531\n",
      "4 🤫 30532\n",
      "5 ♀ 30533\n",
      "6 🧛 30534\n",
      "7 🇨 30535\n",
      "8 🤲 30536\n",
      "9 🤪 30537\n",
      "10 🇲 30538\n",
      "11 🦵 30539\n",
      "12 © 30539\n",
      "13 🇹 30540\n",
      "14 ⬆ 30541\n",
      "15 ✌ 30542\n",
      "16 ❤ 30543\n",
      "17 🤯 30544\n",
      "18 🇦 30545\n",
      "19 ✌ 30545\n",
      "20 ☺ 30546\n",
      "21 🤮 30547\n",
      "22 ☺ 30547\n",
      "23 🇫 30548\n",
      "24 ▫ 30549\n",
      "25 ✔ 30550\n",
      "26 🥺 30551\n",
      "27 🥰 30552\n",
      "28 ❤ 30552\n",
      "29 ♂ 30553\n",
      "30 ☝ 30554\n",
      "31 ™ 30554\n",
      "32 🧡 30555\n",
      "33 🤭 30556\n",
      "34 🤩 30557\n",
      "35 ♥ 30557\n",
      "36 ♥ 30557\n",
      "37 ❄ 30558\n",
      "38 🥛 30559\n",
      "39 🤨 30560\n",
      "40 🧖 30561\n"
     ]
    }
   ],
   "source": [
    "for i, emoji in enumerate(error_emojis):\n",
    "        \n",
    "    # import pdb; pdb.set_trace()\n",
    "    tokenizer.add_tokens(emoji)\n",
    "    bert_model.resize_token_embeddings(\n",
    "        len(tokenizer)\n",
    "    )\n",
    "    print(i, emoji, len(tokenizer))"
   ]
  },
  {
   "cell_type": "markdown",
   "id": "0e88b9b3-cd84-43fd-8265-cc898bbbf9eb",
   "metadata": {},
   "source": [
    "### Add error emojis"
   ]
  },
  {
   "cell_type": "code",
   "execution_count": 23,
   "id": "83659602-e88a-4941-9185-8f922272427f",
   "metadata": {},
   "outputs": [
    {
     "name": "stderr",
     "output_type": "stream",
     "text": [
      "/tmp/ipykernel_13284/354540762.py:2: UserWarning: The given NumPy array is not writable, and PyTorch does not support non-writable tensors. This means writing to this tensor will result in undefined behavior. You may want to copy the array to protect its data or make it writable before converting it to a tensor. This type of warning will be suppressed for the rest of this program. (Triggered internally at /opt/conda/conda-bld/pytorch_1666642975993/work/torch/csrc/utils/tensor_numpy.cpp:199.)\n",
      "  emoji_embd = torch.from_numpy(e2v[emoji])\n"
     ]
    }
   ],
   "source": [
    "for i, emoji in enumerate(health_emojis):\n",
    "    emoji_embd = torch.from_numpy(e2v[emoji])\n",
    "    tokenizer.add_tokens(emoji)\n",
    "    bert_model.resize_token_embeddings(\n",
    "        len(tokenizer)\n",
    "    )\n",
    "    with torch.no_grad():\n",
    "        bert_model.embeddings.word_embeddings.weight[-1, :] = emoji_embd"
   ]
  },
  {
   "cell_type": "code",
   "execution_count": 24,
   "id": "8ca281cf-0803-4aef-b171-a06f276d1176",
   "metadata": {},
   "outputs": [
    {
     "data": {
      "text/plain": [
       "30757"
      ]
     },
     "execution_count": 24,
     "metadata": {},
     "output_type": "execute_result"
    }
   ],
   "source": [
    "len(tokenizer)"
   ]
  },
  {
   "cell_type": "code",
   "execution_count": null,
   "id": "f8a8cab4-122b-42c4-8dcb-32d5a10a6293",
   "metadata": {},
   "outputs": [],
   "source": [
    "bert_model.embeddings.word_embeddings.weight.shape"
   ]
  },
  {
   "cell_type": "markdown",
   "id": "11a76b64-b339-4e82-83b2-4b7b9ace8adf",
   "metadata": {},
   "source": [
    "### Add all emojis in training data to tokenizier"
   ]
  },
  {
   "cell_type": "code",
   "execution_count": 30,
   "id": "061a549c-ab10-4dda-be97-894cf1f8ce3e",
   "metadata": {},
   "outputs": [
    {
     "data": {
      "text/plain": [
       "torch.Size([30757, 768])"
      ]
     },
     "execution_count": 30,
     "metadata": {},
     "output_type": "execute_result"
    }
   ],
   "source": [
    "bert_model.embeddings.word_embeddings.weight.shape"
   ]
  },
  {
   "cell_type": "code",
   "execution_count": 17,
   "id": "d4cebf3f-f9d1-49da-be0d-b8321e05d5f9",
   "metadata": {},
   "outputs": [
    {
     "data": {
      "text/plain": [
       "30528"
      ]
     },
     "execution_count": 17,
     "metadata": {},
     "output_type": "execute_result"
    }
   ],
   "source": [
    "len(tokenizer)"
   ]
  },
  {
   "cell_type": "code",
   "execution_count": 40,
   "id": "1600cffc-ca9e-4db2-af9f-2d3ad6f9ceca",
   "metadata": {},
   "outputs": [
    {
     "data": {
      "text/plain": [
       "0"
      ]
     },
     "execution_count": 40,
     "metadata": {},
     "output_type": "execute_result"
    }
   ],
   "source": [
    "tokenizer.add_tokens('🧛')"
   ]
  },
  {
   "cell_type": "code",
   "execution_count": 18,
   "id": "8b269fa4-5f12-4642-b21f-47cfc5901a3a",
   "metadata": {},
   "outputs": [
    {
     "name": "stderr",
     "output_type": "stream",
     "text": [
      "/tmp/ipykernel_86877/1662461449.py:4: UserWarning: The given NumPy array is not writable, and PyTorch does not support non-writable tensors. This means writing to this tensor will result in undefined behavior. You may want to copy the array to protect its data or make it writable before converting it to a tensor. This type of warning will be suppressed for the rest of this program. (Triggered internally at /opt/conda/conda-bld/pytorch_1666642975993/work/torch/csrc/utils/tensor_numpy.cpp:199.)\n",
      "  emoji_embd = torch.Tensor(e2v[emoji])\n"
     ]
    },
    {
     "name": "stdout",
     "output_type": "stream",
     "text": [
      "2 🥺 30531\n",
      "10 🧛 30539\n",
      "16 ☺ 30545\n",
      "33 ✔ 30562\n",
      "52 ™ 30579\n",
      "59 🇨 30585\n",
      "62 ⬆ 30588\n",
      "76 🥰 30601\n",
      "90 © 30611\n",
      "94 ✌ 30614\n",
      "95 🤮 30615\n",
      "97 🦵 30617\n",
      "106 🅱 30625\n",
      "116 🤪 30633\n",
      "125 🤭 30641\n",
      "126 ☝ 30642\n",
      "135 ♥ 30649\n",
      "153 🇦 30667\n",
      "155 🥛 30669\n",
      "158 ♂ 30671\n",
      "160 ♥ 30672\n",
      "167 ❤ 30677\n",
      "174 🧡 30683\n",
      "176 🤯 30685\n",
      "187 🇫 30695\n",
      "191 ▫ 30698\n",
      "192 🧖 30699\n",
      "209 ♀ 30714\n",
      "210 ✌ 30714\n",
      "215 🤫 30718\n",
      "218 🤩 30721\n",
      "223 🇲 30724\n",
      "225 🦗 30726\n",
      "226 ☺ 30726\n",
      "227 🤲 30727\n",
      "244 🇹 30739\n",
      "258 ™ 30748\n",
      "262 ❤ 30751\n",
      "263 ☁ 30752\n",
      "265 ❄ 30754\n",
      "267 🤨 30756\n"
     ]
    }
   ],
   "source": [
    "for i, emoji in enumerate(all_emojis):\n",
    "    emoji = emoji[0]\n",
    "    if emoji in health_emojis:\n",
    "        emoji_embd = torch.Tensor(e2v[emoji])\n",
    "        tokenizer.add_tokens(emoji)\n",
    "        bert_model.resize_token_embeddings(\n",
    "            len(tokenizer)\n",
    "        )\n",
    "        with torch.no_grad():\n",
    "            bert_model.embeddings.word_embeddings.weight[-1, :] = emoji_embd\n",
    "    else:\n",
    "        \n",
    "        # import pdb; pdb.set_trace()\n",
    "        tokenizer.add_tokens(emoji)\n",
    "        bert_model.resize_token_embeddings(\n",
    "            len(tokenizer)\n",
    "        )\n",
    "        print(i, emoji, len(tokenizer))"
   ]
  },
  {
   "cell_type": "code",
   "execution_count": 19,
   "id": "7af2d308-83a0-4e9f-acf7-cda87a415582",
   "metadata": {},
   "outputs": [
    {
     "data": {
      "text/plain": [
       "30757"
      ]
     },
     "execution_count": 19,
     "metadata": {},
     "output_type": "execute_result"
    }
   ],
   "source": [
    "len(tokenizer)"
   ]
  },
  {
   "cell_type": "code",
   "execution_count": 21,
   "id": "9cd122c1-da3e-4f91-8a79-9cbbaf5382cf",
   "metadata": {},
   "outputs": [],
   "source": [
    "sample = ''.join(error_emojis)"
   ]
  },
  {
   "cell_type": "code",
   "execution_count": 22,
   "id": "94d2a180-1a1d-461c-b42d-959ceabb2781",
   "metadata": {},
   "outputs": [
    {
     "data": {
      "text/plain": [
       "'🥺🧛☺✔™🇨⬆🥰©✌🤮🦵🅱🤪🤭☝♥🇦🥛♂♥❤🧡🤯🇫▫🧖♀✌🤫🤩🇲🦗☺🤲🇹™❤☁❄🤨'"
      ]
     },
     "execution_count": 22,
     "metadata": {},
     "output_type": "execute_result"
    }
   ],
   "source": [
    "sample"
   ]
  },
  {
   "cell_type": "code",
   "execution_count": 24,
   "id": "b2340551-e168-4a5a-8506-ba5f8928fb60",
   "metadata": {},
   "outputs": [
    {
     "data": {
      "text/plain": [
       "['🥺',\n",
       " '🧛',\n",
       " '☺',\n",
       " '✔',\n",
       " '™',\n",
       " '🇨',\n",
       " '⬆',\n",
       " '🥰',\n",
       " '©',\n",
       " '✌',\n",
       " '🤮',\n",
       " '🦵',\n",
       " '🅱',\n",
       " '🤪',\n",
       " '🤭',\n",
       " '☝',\n",
       " '♥',\n",
       " '🇦',\n",
       " '🥛',\n",
       " '♂',\n",
       " '♥',\n",
       " '❤',\n",
       " '🧡',\n",
       " '🤯',\n",
       " '🇫',\n",
       " '▫',\n",
       " '🧖',\n",
       " '♀',\n",
       " '✌',\n",
       " '🤫',\n",
       " '🤩',\n",
       " '🇲',\n",
       " '🦗',\n",
       " '☺',\n",
       " '🤲',\n",
       " '🇹',\n",
       " '™',\n",
       " '❤',\n",
       " '☁',\n",
       " '❄',\n",
       " '🤨']"
      ]
     },
     "execution_count": 24,
     "metadata": {},
     "output_type": "execute_result"
    }
   ],
   "source": [
    "tokenizer.tokenize(sample)"
   ]
  },
  {
   "cell_type": "code",
   "execution_count": 28,
   "id": "db73d297-1390-443d-a89c-0265c9758497",
   "metadata": {},
   "outputs": [],
   "source": [
    "healthy_sample = ''.join(health_emojis)"
   ]
  },
  {
   "cell_type": "code",
   "execution_count": 34,
   "id": "8d57542a-f859-4f9d-bc5e-61479e859151",
   "metadata": {},
   "outputs": [
    {
     "data": {
      "text/plain": [
       "'🎉🤓🙄😐😒😝🤠👍💋🕺😓🤤🙊💚🎏💥🐇😀😏🍭😟🤦😃😵🙏😘💯🤷👴💸👍🙏💔🚀👌😰🤦😂👸🐊🙃💰💖💙💓😳🔥🎂😜😎👏👌🙌⚡😬💪👌❣💭🤙💨💃🤦😠☠😄😥🤔✊🤷😛😹👉🤢🤘🌟🙌💜😪🥕🌿😸😊🗑😇💅🐃✨🍩😨🤚💩👏💪🙆💡👍🦀🤷🤜😔🖕🙏❣😕🤷👁😆🥘💆🙋💀🤷👓😡🏊🙌💎🍰😞🔪👻🖥🛡🗿🍁🙏😭🍆💄🍺🤕🍧🙌⭐🌊😩🤷☹😗💍👀🖤👨🔑😾🤞🎾🚫🙁🦈🙂😻🤞⛏🏳😫😧💲🎵👊🚓😉🙈🥀☕🎣💛🍍😤☹👌😦👏🤦👋💕👍🐢🍿🐕👅🇵🤷🍻🌈😖👎🤗👩✊😱💗🤞💁👑🙎📚🍕😣💦🚒🤰💁🍀😮🌹⚔🌱🎶🤣😴🎖😢😿🏈😑🖐🥂⚰😁😋😍💪⛑👐😅🤦🤷'"
      ]
     },
     "execution_count": 34,
     "metadata": {},
     "output_type": "execute_result"
    }
   ],
   "source": [
    "healthy_sample"
   ]
  },
  {
   "cell_type": "code",
   "execution_count": 33,
   "id": "cf580fe1-90e9-4290-bff9-9c840112efc8",
   "metadata": {},
   "outputs": [
    {
     "data": {
      "text/plain": [
       "[101,\n",
       " 30561,\n",
       " 30562,\n",
       " 30563,\n",
       " 30564,\n",
       " 30565,\n",
       " 30566,\n",
       " 30567,\n",
       " 30568,\n",
       " 30569,\n",
       " 30570,\n",
       " 30571,\n",
       " 30572,\n",
       " 30573,\n",
       " 30574,\n",
       " 30575,\n",
       " 30576,\n",
       " 30577,\n",
       " 30578,\n",
       " 30579,\n",
       " 30580,\n",
       " 30581,\n",
       " 30582,\n",
       " 30583,\n",
       " 30584,\n",
       " 30585,\n",
       " 30586,\n",
       " 30587,\n",
       " 30588,\n",
       " 30589,\n",
       " 30590,\n",
       " 30568,\n",
       " 30585,\n",
       " 30591,\n",
       " 30592,\n",
       " 30593,\n",
       " 30594,\n",
       " 30582,\n",
       " 30595,\n",
       " 30596,\n",
       " 30597,\n",
       " 30598,\n",
       " 30599,\n",
       " 30600,\n",
       " 30601,\n",
       " 30602,\n",
       " 30603,\n",
       " 30604,\n",
       " 30605,\n",
       " 30606,\n",
       " 30607,\n",
       " 30608,\n",
       " 30593,\n",
       " 30609,\n",
       " 30610,\n",
       " 30611,\n",
       " 30612,\n",
       " 30593,\n",
       " 30613,\n",
       " 30614,\n",
       " 30615,\n",
       " 30616,\n",
       " 30617,\n",
       " 30582,\n",
       " 30618,\n",
       " 30619,\n",
       " 30620,\n",
       " 30621,\n",
       " 30622,\n",
       " 30623,\n",
       " 30588,\n",
       " 30624,\n",
       " 30625,\n",
       " 30626,\n",
       " 30627,\n",
       " 30628,\n",
       " 30629,\n",
       " 30609,\n",
       " 30630,\n",
       " 30631,\n",
       " 30632,\n",
       " 30633,\n",
       " 30634,\n",
       " 30635,\n",
       " 30636,\n",
       " 30637,\n",
       " 30638,\n",
       " 30639,\n",
       " 30640,\n",
       " 30641,\n",
       " 30642,\n",
       " 30643,\n",
       " 30644,\n",
       " 30608,\n",
       " 30612,\n",
       " 30645,\n",
       " 30646,\n",
       " 30568,\n",
       " 30647,\n",
       " 30588,\n",
       " 30648,\n",
       " 30649,\n",
       " 30650,\n",
       " 30585,\n",
       " 30613,\n",
       " 30651,\n",
       " 30588,\n",
       " 30652,\n",
       " 30653,\n",
       " 30654,\n",
       " 30655,\n",
       " 30656,\n",
       " 30657,\n",
       " 30588,\n",
       " 30658,\n",
       " 30659,\n",
       " 30660,\n",
       " 30609,\n",
       " 30661,\n",
       " 30662,\n",
       " 30663,\n",
       " 30664,\n",
       " 30665,\n",
       " 30666,\n",
       " 30667,\n",
       " 30668,\n",
       " 30669,\n",
       " 30585,\n",
       " 30670,\n",
       " 30671,\n",
       " 30672,\n",
       " 30673,\n",
       " 30674,\n",
       " 30675,\n",
       " 30609,\n",
       " 30676,\n",
       " 30677,\n",
       " 30678,\n",
       " 30588,\n",
       " 30679,\n",
       " 30680,\n",
       " 30681,\n",
       " 30682,\n",
       " 30683,\n",
       " 30684,\n",
       " 30685,\n",
       " 30686,\n",
       " 30687,\n",
       " 30688,\n",
       " 30689,\n",
       " 30690,\n",
       " 30691,\n",
       " 30692,\n",
       " 30693,\n",
       " 30687,\n",
       " 30694,\n",
       " 30695,\n",
       " 30696,\n",
       " 30697,\n",
       " 30698,\n",
       " 30699,\n",
       " 30700,\n",
       " 30701,\n",
       " 30702,\n",
       " 30703,\n",
       " 30704,\n",
       " 30705,\n",
       " 30706,\n",
       " 30707,\n",
       " 30708,\n",
       " 30709,\n",
       " 30679,\n",
       " 30593,\n",
       " 30710,\n",
       " 30608,\n",
       " 30582,\n",
       " 30711,\n",
       " 30712,\n",
       " 30568,\n",
       " 30713,\n",
       " 30714,\n",
       " 30715,\n",
       " 30716,\n",
       " 30717,\n",
       " 30588,\n",
       " 30718,\n",
       " 30719,\n",
       " 30720,\n",
       " 30721,\n",
       " 30722,\n",
       " 30723,\n",
       " 30623,\n",
       " 30724,\n",
       " 30725,\n",
       " 30687,\n",
       " 30726,\n",
       " 30727,\n",
       " 30728,\n",
       " 30729,\n",
       " 30730,\n",
       " 30731,\n",
       " 30732,\n",
       " 30733,\n",
       " 30734,\n",
       " 30726,\n",
       " 30735,\n",
       " 30736,\n",
       " 30737,\n",
       " 30738,\n",
       " 30739,\n",
       " 30740,\n",
       " 30741,\n",
       " 30742,\n",
       " 30743,\n",
       " 30744,\n",
       " 30745,\n",
       " 30746,\n",
       " 30747,\n",
       " 30748,\n",
       " 30749,\n",
       " 30750,\n",
       " 30751,\n",
       " 30752,\n",
       " 30753,\n",
       " 30612,\n",
       " 30754,\n",
       " 30755,\n",
       " 30756,\n",
       " 30582,\n",
       " 30588,\n",
       " 102]"
      ]
     },
     "execution_count": 33,
     "metadata": {},
     "output_type": "execute_result"
    }
   ],
   "source": [
    "tokenizer.encode(healthy_sample)"
   ]
  },
  {
   "cell_type": "code",
   "execution_count": null,
   "id": "a9a95e98-61b6-4349-9837-a5b917205c28",
   "metadata": {},
   "outputs": [],
   "source": []
  }
 ],
 "metadata": {
  "kernelspec": {
   "display_name": "goemo",
   "language": "python",
   "name": "goemo"
  },
  "language_info": {
   "codemirror_mode": {
    "name": "ipython",
    "version": 3
   },
   "file_extension": ".py",
   "mimetype": "text/x-python",
   "name": "python",
   "nbconvert_exporter": "python",
   "pygments_lexer": "ipython3",
   "version": "3.9.13"
  }
 },
 "nbformat": 4,
 "nbformat_minor": 5
}
