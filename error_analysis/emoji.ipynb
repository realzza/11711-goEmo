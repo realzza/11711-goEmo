{
 "cells": [
  {
   "cell_type": "code",
   "execution_count": 1,
   "metadata": {},
   "outputs": [],
   "source": [
    "import emoji\n",
    "\n",
    "def extract_emojis(s):\n",
    "  return ''.join(c for c in s if c in emoji.UNICODE_EMOJI['en'])"
   ]
  },
  {
   "cell_type": "code",
   "execution_count": 5,
   "metadata": {},
   "outputs": [],
   "source": [
    "sent_with_emoji = []\n",
    "with open('../goemotions/data/train.tsv','r') as f: \n",
    "    all_sents = f.read().split('\\n')\n",
    "    for sent in all_sents:\n",
    "        if emoji.distinct_emoji_list(sent):\n",
    "            sent_with_emoji.append(sent)"
   ]
  },
  {
   "cell_type": "code",
   "execution_count": 4,
   "metadata": {},
   "outputs": [
    {
     "data": {
      "text/plain": [
       "['🤪']"
      ]
     },
     "execution_count": 4,
     "metadata": {},
     "output_type": "execute_result"
    }
   ],
   "source": [
    "sample = \"I’m so sorry 🤪\tremorse\t0.5907\tsadness\t0.3532\"\n",
    "emoji.distinct_emoji_list(sample)"
   ]
  },
  {
   "cell_type": "code",
   "execution_count": 7,
   "metadata": {},
   "outputs": [
    {
     "data": {
      "text/plain": [
       "841"
      ]
     },
     "execution_count": 7,
     "metadata": {},
     "output_type": "execute_result"
    }
   ],
   "source": [
    "# lines with emojis in training data\n",
    "len(sent_with_emoji)"
   ]
  },
  {
   "cell_type": "code",
   "execution_count": 8,
   "metadata": {},
   "outputs": [],
   "source": [
    "# check emojis in pred\n",
    "with open('sentence_label_pred.tsv', 'r') as f:\n",
    "    lines = [line for line in f.read().split('\\n') if line][1:]"
   ]
  },
  {
   "cell_type": "code",
   "execution_count": 9,
   "metadata": {},
   "outputs": [
    {
     "data": {
      "text/plain": [
       "5427"
      ]
     },
     "execution_count": 9,
     "metadata": {},
     "output_type": "execute_result"
    }
   ],
   "source": [
    "len(lines)"
   ]
  },
  {
   "cell_type": "code",
   "execution_count": 10,
   "metadata": {},
   "outputs": [],
   "source": [
    "emoji_lines = [line for line in lines if emoji.distinct_emoji_list(line)]"
   ]
  },
  {
   "cell_type": "code",
   "execution_count": 11,
   "metadata": {},
   "outputs": [
    {
     "data": {
      "text/plain": [
       "107"
      ]
     },
     "execution_count": 11,
     "metadata": {},
     "output_type": "execute_result"
    }
   ],
   "source": [
    "len(emoji_lines)"
   ]
  },
  {
   "cell_type": "code",
   "execution_count": 19,
   "metadata": {},
   "outputs": [
    {
     "name": "stdout",
     "output_type": "stream",
     "text": [
      "I’m so sorry 🤪\n",
      " sadness\n",
      " remorse,sadness\n",
      "\n",
      "Eff your video - love Canada 🇨🇦 Stupid geolock\n",
      " anger,annoyance\n",
      " love\n",
      "\n",
      "😂😂😂😂😂😂😂😂😂😂😂😂😂 you got the wrong [NAME] —\n",
      " neutral\n",
      " \n",
      "\n",
      "Oh boy 🤣🤣\n",
      " neutral\n",
      " surprise,neutral\n",
      "\n",
      "Welcome to the freedom and democracy circus that is 'mercuh! 👍\n",
      " excitement\n",
      " gratitude\n",
      "\n",
      "Loook all around youuuu. All throughout Nature is evidence of a creator and his love ❤️for us\n",
      " neutral\n",
      " love\n",
      "\n",
      "This was so touching ❤️❤️❤️\n",
      " love\n",
      " \n",
      "\n",
      "Lol omg yesssss. Probably the best suggestion anyone ever told me 🙌🏼\n",
      " admiration,amusement,approval\n",
      " amusement\n",
      "\n",
      "I believe in you. Do what is right for you. I hope you feel better soon too. ♥️🙂\n",
      " caring,optimism\n",
      " optimism\n",
      "\n",
      "I want to be a sister ♥️ I have lots of nail polish I'll help!!\n",
      " caring,desire\n",
      " desire,optimism\n",
      "\n",
      "U guys are like match made in heaven ♥️♥️♥️\n",
      " admiration\n",
      " love,neutral\n",
      "\n",
      "I get wound up over completely imagined conversations too 😅 I'm trying to meditate and learn to stop myself from going down the rabbit hole.\n",
      " optimism\n",
      " \n",
      "\n",
      "He's protecting and defending the angels now 💚\n",
      " approval,caring\n",
      " approval,neutral\n",
      "\n",
      "Absolute queens! ❤🏳️‍🌈🏳️‍🌈🏳️‍🌈\n",
      " admiration,excitement,love\n",
      " admiration,neutral\n",
      "\n",
      "No worries! 😊\n",
      " approval,caring\n",
      " \n",
      "\n",
      "Ok google it then. 🤦🏼‍♀️\n",
      " neutral\n",
      " approval,neutral\n",
      "\n",
      "I had to watch x3 to make sure I didn't miss something 😂\n",
      " amusement,realization\n",
      " \n",
      "\n",
      "Can't relate because the sadness and loneliness is constant 😎\n",
      " sadness\n",
      " annoyance\n",
      "\n",
      "Legit I just go to places and tell them to surprise me. That way I get to keep trying new types of food 🥘\n",
      " excitement,optimism\n",
      " neutral\n",
      "\n",
      "Lol, right? Who says that before banging? “Is you ovulatin?” SOOOO repulsive. 🤮🤮\n",
      " curiosity,disgust\n",
      " amusement\n",
      "\n",
      "Omg I just looked it up and all the places look so beautiful there 😍 also I’m sorry that it’s homophobic\n",
      " admiration\n",
      " \n",
      "\n",
      "Cheers to that, girl. 🥂 \n",
      " admiration,joy\n",
      " joy\n",
      "\n",
      "SHE. IS. THE. FUCKING. WORST. P.S. You’re not fat, you just need a stylist. 🙄\n",
      " anger,disapproval,disgust\n",
      " annoyance\n",
      "\n",
      "What a beautiful memory for you to have found. So sorry for your loss ❤️\n",
      " sadness\n",
      " admiration,joy\n",
      "\n",
      "We're one in the same!!!!!!!!!!!😂😂😂😂\n",
      " approval,excitement,neutral\n",
      " admiration,excitement\n",
      "\n",
      "Got me spitted coffee all over my phone🤣\n",
      " amusement\n",
      " \n",
      "\n",
      "I wish I had known this when my kitty ran off years ago. 😭\n",
      " optimism\n",
      " desire\n",
      "\n",
      "Needed a good laugh today 😂\n",
      " amusement,desire\n",
      " amusement\n",
      "\n",
      "There’s always that one friend 😂\n",
      " amusement,approval\n",
      " neutral\n",
      "\n",
      "Thanks for this.😊 I like to learn new things. #experiencematters **Themoreyouknow**🌈 \n",
      " gratitude,love\n",
      " gratitude\n",
      "\n",
      "You missed the point 🙃\n",
      " annoyance\n",
      " \n",
      "\n",
      "This happens to me all the time I’m so sorry 😣 it’s always with burgers, too. So painful. \n",
      " sadness\n",
      " remorse,sadness\n",
      "\n",
      "Of course, us first borns gotta stick together. ❤️\n",
      " approval,love\n",
      " approval,neutral\n",
      "\n",
      "This!!! 🐃 and 💍 for your hard work!\n",
      " admiration,excitement,neutral\n",
      " \n",
      "\n",
      "Wondering why this hasn’t been made a thing yet 😂\n",
      " realization,surprise\n",
      " surprise\n",
      "\n",
      "This is adorable! But I don’t understand how he does that😂\n",
      " admiration,confusion\n",
      " admiration\n",
      "\n",
      "Lol sounds great but that's probably not what the OP wants to hear 😉\n",
      " admiration,amusement,optimism\n",
      " admiration,amusement\n",
      "\n",
      "Thanks man, I appreciate it, I love her but this was way to far, thanks man 💜\n",
      " admiration,gratitude\n",
      " gratitude\n",
      "\n",
      "Pets are the best ❤\n",
      " approval\n",
      " admiration\n",
      "\n",
      "Oh wait that's tonight?!?! Totally watching 😎\n",
      " curiosity,joy\n",
      " curiosity,surprise\n",
      "\n",
      "You’re a liar. 😂\n",
      " annoyance\n",
      " anger,annoyance\n",
      "\n",
      "But sweat pea it’s a MAN wearing makeup! My gay bestie BABES 🍭🍆🧖‍♂️ \n",
      " neutral\n",
      " approval\n",
      "\n",
      "RIGHT?! My mom would literally never forgive the bitch 😂\n",
      " amusement\n",
      " anger,annoyance\n",
      "\n",
      "Sadly no... I’m in Delaware 😩. But I’d love to help in any way I can. Keep me posted. \n",
      " love,sadness\n",
      " sadness\n",
      "\n",
      "that’s awful🤣🤣\n",
      " disgust\n",
      " \n",
      "\n",
      "The first sentence alone sums it all up 😂\n",
      " approval\n",
      " neutral\n",
      "\n",
      "[NAME] doesn’t roll his ankle on a 🎾 in 2011 and we win a premiership imo\n",
      " neutral\n",
      " approval,neutral\n",
      "\n",
      "Thank you. ❤️ I really appreciate your comment\n",
      " gratitude\n",
      " admiration,gratitude\n",
      "\n",
      "It’s beautiful. I think I need to move. 😊\n",
      " admiration,optimism\n",
      " admiration\n",
      "\n",
      "Haha yes. Thank you. No accidents, so it went well 😂😂\n",
      " approval,gratitude\n",
      " amusement,gratitude\n",
      "\n",
      "I wish that were a thing 🙄\n",
      " desire,optimism\n",
      " desire\n",
      "\n",
      "Awesome! I just recently custom made some art for my razer panthera! It certainly is a lot of fun to do! 👍\n",
      " admiration,amusement,approval\n",
      " admiration,joy\n",
      "\n",
      "Welcome to switzerland 😂 I see it everyday, when I'm on my way to work. \n",
      " approval\n",
      " gratitude\n",
      "\n",
      "*sigh* just take it ⬆️\n",
      " approval\n",
      " neutral\n",
      "\n",
      "Just read your list, sounds great!! You have some creatures even I didn’t think about 👍!!\n",
      " admiration,realization\n",
      " admiration\n",
      "\n",
      "See that's what I figured, but at the same time academy is such a hindrance 😂\n",
      " realization,sadness\n",
      " approval\n",
      "\n",
      "I got angry briefly, made a post and got over it quick. Thanks for the diagnosis Doctor. 😆\n",
      " anger,gratitude\n",
      " gratitude\n",
      "\n",
      "I go to a neighborhood mexican restaurant monthly for the past 2.5 years, but nobody knows my name ☹\n",
      " disappointment,sadness\n",
      " neutral\n",
      "\n",
      "Almost in tears watching him celebrate, true captain ❤️\n",
      " admiration\n",
      " sadness\n",
      "\n",
      "That was my first thought too 😂\n",
      " approval\n",
      " neutral\n",
      "\n",
      "Yes, and I looooooove it 😂😂\n",
      " love\n",
      " amusement\n",
      "\n",
      "maybe now it'll go up to 3 an hour😎\n",
      " neutral\n",
      " desire\n",
      "\n",
      "I can't tell if this is a happy or sad ending. 😐\n",
      " confusion\n",
      " sadness\n",
      "\n",
      "Im not 😀 Glad you realize your mistake and why I was confused 😉\n",
      " confusion,joy,realization\n",
      " \n",
      "\n",
      "Awe man thank you ♥️♥️\n",
      " admiration,gratitude\n",
      " gratitude\n",
      "\n",
      "Apparently my state 😔\n",
      " neutral\n",
      " \n",
      "\n",
      "Ah!! Was not expecting to read that this morning on my commute 😭 lol Just so beautiful! \n",
      " admiration,amusement,realization\n",
      " admiration,amusement\n",
      "\n",
      "[NAME] might actually be able to pick her up and carry her without huffing and puffing now? 😳😓\n",
      " neutral\n",
      " curiosity,neutral\n",
      "\n",
      "I know, right?! I was literally in tears Saturday night 😪 It's only 3 years old!!\n",
      " curiosity,sadness\n",
      " curiosity,surprise\n",
      "\n"
     ]
    }
   ],
   "source": [
    "correct_emoji_count = 0\n",
    "for line in emoji_lines:\n",
    "    sent, tl, pl = line.split('\\t')\n",
    "    if tl != pl:\n",
    "        print(sent+'\\n', tl+'\\n', pl+'\\n')\n",
    "        continue\n",
    "    correct_emoji_count += 1"
   ]
  },
  {
   "cell_type": "code",
   "execution_count": 23,
   "metadata": {},
   "outputs": [
    {
     "name": "stdout",
     "output_type": "stream",
     "text": [
      "mispredicted ratio with emoji: 0.35514018691588783\n"
     ]
    }
   ],
   "source": [
    "print(\"mispredicted ratio with emoji:\", correct_emoji_count/len(emoji_lines))"
   ]
  },
  {
   "cell_type": "code",
   "execution_count": null,
   "metadata": {},
   "outputs": [],
   "source": []
  }
 ],
 "metadata": {
  "kernelspec": {
   "display_name": "Python 3.9.12 64-bit",
   "language": "python",
   "name": "python3"
  },
  "language_info": {
   "codemirror_mode": {
    "name": "ipython",
    "version": 3
   },
   "file_extension": ".py",
   "mimetype": "text/x-python",
   "name": "python",
   "nbconvert_exporter": "python",
   "pygments_lexer": "ipython3",
   "version": "3.9.12"
  },
  "orig_nbformat": 4,
  "vscode": {
   "interpreter": {
    "hash": "b0fa6594d8f4cbf19f97940f81e996739fb7646882a419484c72d19e05852a7e"
   }
  }
 },
 "nbformat": 4,
 "nbformat_minor": 2
}
